{
  "nbformat": 4,
  "nbformat_minor": 0,
  "metadata": {
    "colab": {
      "name": "Python-Numpy-Tutorial.ipynb",
      "provenance": [],
      "collapsed_sections": [],
      "authorship_tag": "ABX9TyOr/bcImiT0l4CNK4ZViesi",
      "include_colab_link": true
    },
    "kernelspec": {
      "name": "python3",
      "display_name": "Python 3"
    }
  },
  "cells": [
    {
      "cell_type": "markdown",
      "metadata": {
        "id": "view-in-github",
        "colab_type": "text"
      },
      "source": [
        "<a href=\"https://colab.research.google.com/github/Mousumi44/Deep-Learning/blob/main/Python_Numpy_Tutorial.ipynb\" target=\"_parent\"><img src=\"https://colab.research.google.com/assets/colab-badge.svg\" alt=\"Open In Colab\"/></a>"
      ]
    },
    {
      "cell_type": "code",
      "metadata": {
        "colab": {
          "base_uri": "https://localhost:8080/"
        },
        "id": "ldbK9Xx0qmB4",
        "outputId": "7dde2fbc-6ff4-4dcc-a7ca-43b7e85f35cb"
      },
      "source": [
        "import numpy as np\n",
        "a = np.array([1,2,3])\n",
        "print(a.shape)\n",
        "b=np.array([[1,2,3],[4,5,6]])\n",
        "print(b.shape)"
      ],
      "execution_count": null,
      "outputs": [
        {
          "output_type": "stream",
          "text": [
            "(3,)\n",
            "(2, 3)\n"
          ],
          "name": "stdout"
        }
      ]
    },
    {
      "cell_type": "code",
      "metadata": {
        "colab": {
          "base_uri": "https://localhost:8080/"
        },
        "id": "lgfIbAk5rHEz",
        "outputId": "5537663e-799d-459c-83f7-746ab499673c"
      },
      "source": [
        "a =np.zeros((2,3))\n",
        "print(a)\n",
        "print(a.shape)"
      ],
      "execution_count": null,
      "outputs": [
        {
          "output_type": "stream",
          "text": [
            "[[0. 0. 0.]\n",
            " [0. 0. 0.]]\n",
            "(2, 3)\n"
          ],
          "name": "stdout"
        }
      ]
    },
    {
      "cell_type": "code",
      "metadata": {
        "colab": {
          "base_uri": "https://localhost:8080/"
        },
        "id": "S1rm7-oirfZJ",
        "outputId": "8205fd49-a19a-4bb1-8ce5-916a90b962d2"
      },
      "source": [
        "b=np.full((4,3),7)\n",
        "print(b)"
      ],
      "execution_count": null,
      "outputs": [
        {
          "output_type": "stream",
          "text": [
            "[[7 7 7]\n",
            " [7 7 7]\n",
            " [7 7 7]\n",
            " [7 7 7]]\n"
          ],
          "name": "stdout"
        }
      ]
    },
    {
      "cell_type": "code",
      "metadata": {
        "colab": {
          "base_uri": "https://localhost:8080/"
        },
        "id": "2qbdOJ26r5yV",
        "outputId": "d084f513-6e6e-4019-e017-a629ad5ce6bc"
      },
      "source": [
        "c=np.eye(3)\n",
        "print(c)"
      ],
      "execution_count": null,
      "outputs": [
        {
          "output_type": "stream",
          "text": [
            "[[1. 0. 0.]\n",
            " [0. 1. 0.]\n",
            " [0. 0. 1.]]\n"
          ],
          "name": "stdout"
        }
      ]
    },
    {
      "cell_type": "code",
      "metadata": {
        "colab": {
          "base_uri": "https://localhost:8080/"
        },
        "id": "1najhH2BsCnI",
        "outputId": "1e281f9b-3bc7-4f2a-e429-5c57620a3030"
      },
      "source": [
        "e = np.random.random((2,2))\n",
        "print(e)"
      ],
      "execution_count": null,
      "outputs": [
        {
          "output_type": "stream",
          "text": [
            "[[0.45708428 0.96866007]\n",
            " [0.37876285 0.59989811]]\n"
          ],
          "name": "stdout"
        }
      ]
    },
    {
      "cell_type": "code",
      "metadata": {
        "colab": {
          "base_uri": "https://localhost:8080/"
        },
        "id": "javJm-RGsSn2",
        "outputId": "6303ac2f-0d40-4fd7-d101-122fbce88e4c"
      },
      "source": [
        "a=np.array([[1,2,3,4],[5,6,7,8],[9,10,11,12]])\n",
        "\n",
        "b=a[:2,1:3]\n",
        "print(b)"
      ],
      "execution_count": null,
      "outputs": [
        {
          "output_type": "stream",
          "text": [
            "[[2 3]\n",
            " [6 7]]\n"
          ],
          "name": "stdout"
        }
      ]
    },
    {
      "cell_type": "code",
      "metadata": {
        "colab": {
          "base_uri": "https://localhost:8080/"
        },
        "id": "8SWEIB8-s3gR",
        "outputId": "4ddc9c03-87bc-41bd-820f-49584cd67f71"
      },
      "source": [
        "print(a[0,1])"
      ],
      "execution_count": null,
      "outputs": [
        {
          "output_type": "stream",
          "text": [
            "2\n"
          ],
          "name": "stdout"
        }
      ]
    },
    {
      "cell_type": "code",
      "metadata": {
        "colab": {
          "base_uri": "https://localhost:8080/"
        },
        "id": "cbAzAAB_s77c",
        "outputId": "72dc68d3-ae6b-4606-d71a-28ae7e36b0e5"
      },
      "source": [
        "row_r1 = a[1,:] #Rank 1 view or in 1 column view\n",
        "print(row_r1)\n",
        "print(row_r1.shape) "
      ],
      "execution_count": null,
      "outputs": [
        {
          "output_type": "stream",
          "text": [
            "[5 6 7 8]\n",
            "(4,)\n"
          ],
          "name": "stdout"
        }
      ]
    },
    {
      "cell_type": "code",
      "metadata": {
        "colab": {
          "base_uri": "https://localhost:8080/"
        },
        "id": "uskXB57S5tPS",
        "outputId": "80ad7d71-5a9f-46df-dfa3-b62bb30c10e6"
      },
      "source": [
        "row_r1 = a[1:2,:]\n",
        "print(row_r1)\n",
        "print(row_r1.shape)"
      ],
      "execution_count": null,
      "outputs": [
        {
          "output_type": "stream",
          "text": [
            "[[5 6 7 8]]\n",
            "(1, 4)\n"
          ],
          "name": "stdout"
        }
      ]
    },
    {
      "cell_type": "code",
      "metadata": {
        "colab": {
          "base_uri": "https://localhost:8080/"
        },
        "id": "stZ4ol9r63_d",
        "outputId": "744ae68b-1459-466f-f9c2-1ceae8acaba2"
      },
      "source": [
        "a=np.array([[1,2],[3,4],[5,6]])\n",
        "print(a[[0,1,2],[0,1,0]])\n",
        "print([a[0,0,],a[1,1],a[2,0]])"
      ],
      "execution_count": null,
      "outputs": [
        {
          "output_type": "stream",
          "text": [
            "[1 4 5]\n",
            "[1, 4, 5]\n"
          ],
          "name": "stdout"
        }
      ]
    },
    {
      "cell_type": "code",
      "metadata": {
        "colab": {
          "base_uri": "https://localhost:8080/"
        },
        "id": "CGJSNSkR7VMe",
        "outputId": "8b5d3a2b-a321-4ab4-a973-bfbfc7369d56"
      },
      "source": [
        "a = np.array([\n",
        "              [1,2,3,4,5],\n",
        "              [6,7,8,9,10],\n",
        "              [11,12,13,4,6],\n",
        "              [2,3,4,5,6]\n",
        "\n",
        "])\n",
        "\n",
        "print(a.shape)"
      ],
      "execution_count": null,
      "outputs": [
        {
          "output_type": "stream",
          "text": [
            "(4, 5)\n"
          ],
          "name": "stdout"
        }
      ]
    },
    {
      "cell_type": "code",
      "metadata": {
        "colab": {
          "base_uri": "https://localhost:8080/"
        },
        "id": "ed0ySWpo8pu-",
        "outputId": "9df9d015-50c2-4db9-93af-fdcee5770efd"
      },
      "source": [
        "#[5,8,6,3]\n",
        "b = [4,2,4,1]\n",
        "print(a[np.arange(4),b])"
      ],
      "execution_count": null,
      "outputs": [
        {
          "output_type": "stream",
          "text": [
            "[5 8 6 3]\n"
          ],
          "name": "stdout"
        }
      ]
    },
    {
      "cell_type": "code",
      "metadata": {
        "colab": {
          "base_uri": "https://localhost:8080/"
        },
        "id": "-IrS91r49PAM",
        "outputId": "81036705-1866-4510-f88b-3cc201b3f8ba"
      },
      "source": [
        "a[np.arange(4),b] +=20\n",
        "print(a)"
      ],
      "execution_count": null,
      "outputs": [
        {
          "output_type": "stream",
          "text": [
            "[[ 1  2  3  4 25]\n",
            " [ 6  7 28  9 10]\n",
            " [11 12 13  4 26]\n",
            " [ 2 23  4  5  6]]\n"
          ],
          "name": "stdout"
        }
      ]
    },
    {
      "cell_type": "code",
      "metadata": {
        "colab": {
          "base_uri": "https://localhost:8080/"
        },
        "id": "U9z4OyFX9jcf",
        "outputId": "153b06dc-e6b3-42ea-aa5e-53665ba2b132"
      },
      "source": [
        "a = np.array([\n",
        "              [1,2],\n",
        "              [3,1],\n",
        "              [4,5]\n",
        "])\n",
        "\n",
        "bool_idx = a>2\n",
        "print(bool_idx)"
      ],
      "execution_count": null,
      "outputs": [
        {
          "output_type": "stream",
          "text": [
            "[[False False]\n",
            " [ True False]\n",
            " [ True  True]]\n"
          ],
          "name": "stdout"
        }
      ]
    },
    {
      "cell_type": "code",
      "metadata": {
        "colab": {
          "base_uri": "https://localhost:8080/"
        },
        "id": "PzWrwzMK99Q9",
        "outputId": "408258f1-a74b-44ba-cefd-61e0e864de16"
      },
      "source": [
        "print(a[bool_idx])\n",
        "\n",
        "print(a[a>2])"
      ],
      "execution_count": null,
      "outputs": [
        {
          "output_type": "stream",
          "text": [
            "[3 4 5]\n",
            "[3 4 5]\n"
          ],
          "name": "stdout"
        }
      ]
    },
    {
      "cell_type": "code",
      "metadata": {
        "colab": {
          "base_uri": "https://localhost:8080/"
        },
        "id": "RCREKFt3-GhW",
        "outputId": "0283b109-d092-43bf-cfc5-1c997ceb0686"
      },
      "source": [
        "x=np.array(\n",
        "    [1,2,3]\n",
        ")\n",
        "print(x.shape)\n",
        "print(x.dtype)"
      ],
      "execution_count": null,
      "outputs": [
        {
          "output_type": "stream",
          "text": [
            "(3,)\n",
            "int64\n"
          ],
          "name": "stdout"
        }
      ]
    },
    {
      "cell_type": "code",
      "metadata": {
        "colab": {
          "base_uri": "https://localhost:8080/"
        },
        "id": "EW5jROly-kfq",
        "outputId": "024ac265-dca7-4606-9acd-3bbf7fc047cf"
      },
      "source": [
        "y = np.array(\n",
        "    [1.0,2.5], dtype=np.int64\n",
        ")\n",
        "print(y.dtype)"
      ],
      "execution_count": null,
      "outputs": [
        {
          "output_type": "stream",
          "text": [
            "int64\n"
          ],
          "name": "stdout"
        }
      ]
    },
    {
      "cell_type": "code",
      "metadata": {
        "colab": {
          "base_uri": "https://localhost:8080/"
        },
        "id": "ocTU9yffAp__",
        "outputId": "57397fb7-57a6-4a15-c36d-fdd29e94963c"
      },
      "source": [
        "print(y)"
      ],
      "execution_count": null,
      "outputs": [
        {
          "output_type": "stream",
          "text": [
            "[1 2]\n"
          ],
          "name": "stdout"
        }
      ]
    },
    {
      "cell_type": "code",
      "metadata": {
        "colab": {
          "base_uri": "https://localhost:8080/"
        },
        "id": "mbqqYEXRBY_p",
        "outputId": "28f4fe0d-b370-46eb-ab1a-50ae3ea32aff"
      },
      "source": [
        "x=np.array([\n",
        "            [1,2],\n",
        "            [3,4]\n",
        "],dtype=np.float64)\n",
        "\n",
        "y = np.array([\n",
        "              [5,6],\n",
        "              [7,8]\n",
        "],dtype=np.float64)\n",
        "\n",
        "print(x/y)\n",
        "print(np.divide(x,y))\n",
        "print(np.square(x))"
      ],
      "execution_count": null,
      "outputs": [
        {
          "output_type": "stream",
          "text": [
            "[[0.2        0.33333333]\n",
            " [0.42857143 0.5       ]]\n",
            "[[0.2        0.33333333]\n",
            " [0.42857143 0.5       ]]\n",
            "[[ 1.  4.]\n",
            " [ 9. 16.]]\n"
          ],
          "name": "stdout"
        }
      ]
    },
    {
      "cell_type": "code",
      "metadata": {
        "colab": {
          "base_uri": "https://localhost:8080/"
        },
        "id": "_GcbfoN8B8f9",
        "outputId": "58a644a5-fed3-46bd-dd9f-ac07437e3fe3"
      },
      "source": [
        "x = np.array([\n",
        "              [1,2],\n",
        "              [3,4]\n",
        "]) \n",
        "\n",
        "y = np.array([\n",
        "              [5,6],\n",
        "              [7,8]\n",
        "])\n",
        "\n",
        "w=3\n",
        "\n",
        "#Don't use it in your code at all. Instead, use np.matmul, or the equivalent operator @\n",
        "#https://stackoverflow.com/questions/54160155/does-np-dot-automatically-transpose-vectors\n",
        "print(x.dot(y))\n",
        "print(np.dot(x,y))\n",
        "print(x@y)\n",
        "print(np.matmul(x,y))"
      ],
      "execution_count": null,
      "outputs": [
        {
          "output_type": "stream",
          "text": [
            "[[19 22]\n",
            " [43 50]]\n",
            "[[19 22]\n",
            " [43 50]]\n",
            "[[19 22]\n",
            " [43 50]]\n",
            "[[19 22]\n",
            " [43 50]]\n"
          ],
          "name": "stdout"
        }
      ]
    },
    {
      "cell_type": "code",
      "metadata": {
        "colab": {
          "base_uri": "https://localhost:8080/"
        },
        "id": "exNePXZDJhfU",
        "outputId": "f3bb29af-c3bb-4b32-9ad2-898c5ab8f380"
      },
      "source": [
        "a = np.array([\n",
        "              [1, 2],\n",
        "              [3, 4]           \n",
        "])\n",
        "\n",
        "print(np.sum(x, axis=0))\n",
        "print(np.sum(x, axis=1))\n",
        "print(a.T)"
      ],
      "execution_count": null,
      "outputs": [
        {
          "output_type": "stream",
          "text": [
            "[4 6]\n",
            "[3 7]\n",
            "[[1 3]\n",
            " [2 4]]\n"
          ],
          "name": "stdout"
        }
      ]
    },
    {
      "cell_type": "markdown",
      "metadata": {
        "id": "kH5JIEE-KVGy"
      },
      "source": [
        "#Broadcsting"
      ]
    },
    {
      "cell_type": "code",
      "metadata": {
        "colab": {
          "base_uri": "https://localhost:8080/"
        },
        "id": "e55wrJnZKJPH",
        "outputId": "0c4472ad-d72f-4a39-eb7a-666f4876024d"
      },
      "source": [
        "x = np.array([\n",
        "              [1,2,3],\n",
        "              [4,5,6],\n",
        "              [7,8,9],\n",
        "              [10,11,12]\n",
        "              \n",
        "])\n",
        "\n",
        "v = np.array([1,0,1])\n",
        "y = np.empty_like(x)\n",
        "\n",
        "for i in range(4):\n",
        "  y[i,:] = np.add(x[i,:],v)\n",
        "  y[i,:] = x[i,:]+v\n",
        "print(y)\n"
      ],
      "execution_count": null,
      "outputs": [
        {
          "output_type": "stream",
          "text": [
            "[[ 2  2  4]\n",
            " [ 5  5  7]\n",
            " [ 8  8 10]\n",
            " [11 11 13]]\n"
          ],
          "name": "stdout"
        }
      ]
    },
    {
      "cell_type": "code",
      "metadata": {
        "colab": {
          "base_uri": "https://localhost:8080/"
        },
        "id": "3qpkw_i-Lm9C",
        "outputId": "94cd5ad6-7094-4e7f-8bcd-2b8a22a25a7c"
      },
      "source": [
        "x = np.array([\n",
        "              [1,2,3],\n",
        "              [4,5,6],\n",
        "              [7,8,9],\n",
        "              [10,11,12]\n",
        "              \n",
        "])\n",
        "\n",
        "v = np.array([1,0,3])\n",
        "vv = np.tile(v,(4,1))\n",
        "print(x+vv)"
      ],
      "execution_count": null,
      "outputs": [
        {
          "output_type": "stream",
          "text": [
            "[[ 2  2  6]\n",
            " [ 5  5  9]\n",
            " [ 8  8 12]\n",
            " [11 11 15]]\n"
          ],
          "name": "stdout"
        }
      ]
    },
    {
      "cell_type": "code",
      "metadata": {
        "colab": {
          "base_uri": "https://localhost:8080/"
        },
        "id": "xJgRMDaNNV9d",
        "outputId": "1a8e1ac7-27be-457a-b995-bfd2e5654893"
      },
      "source": [
        "x = np.array([\n",
        "              [1,2,3],\n",
        "              [4,5,6],\n",
        "              [7,8,9],\n",
        "              [10,11,12]\n",
        "              \n",
        "])\n",
        "print(x.shape)\n",
        "\n",
        "v = np.array([\n",
        "              [1,0,3]\n",
        "])\n",
        "print(v.shape)\n",
        "print(x+v)"
      ],
      "execution_count": null,
      "outputs": [
        {
          "output_type": "stream",
          "text": [
            "(4, 3)\n",
            "(1, 3)\n",
            "[[ 2  2  6]\n",
            " [ 5  5  9]\n",
            " [ 8  8 12]\n",
            " [11 11 15]]\n"
          ],
          "name": "stdout"
        }
      ]
    },
    {
      "cell_type": "code",
      "metadata": {
        "colab": {
          "base_uri": "https://localhost:8080/"
        },
        "id": "nmaEMyBnOqgM",
        "outputId": "538ee592-1db2-4ff1-9277-5666f734bbd1"
      },
      "source": [
        "v = np.array([1,2,3]) #shape(3,)\n",
        "w = np.array([4,5]) #shape(2,)\n",
        "\n",
        "m = np.reshape(v, (-1,1))\n",
        "n = np.reshape(v, (3,1))\n",
        "print(m*w)\n",
        "print(n)"
      ],
      "execution_count": null,
      "outputs": [
        {
          "output_type": "stream",
          "text": [
            "[[ 4  5]\n",
            " [ 8 10]\n",
            " [12 15]]\n",
            "[[1]\n",
            " [2]\n",
            " [3]]\n"
          ],
          "name": "stdout"
        }
      ]
    },
    {
      "cell_type": "code",
      "metadata": {
        "colab": {
          "base_uri": "https://localhost:8080/"
        },
        "id": "Lf7VpktwQODz",
        "outputId": "95a3842b-3b61-4bf3-e186-f43ebe98a7f3"
      },
      "source": [
        "v = np.array([1,2,3]) #shape(3,)\n",
        "v = np.reshape(v,(-1,1)) #shape(3,1)\n",
        "\n",
        "x = np.array([\n",
        "              [7,8,9],\n",
        "              [4,5,6],\n",
        "              [9,10,11]\n",
        "])\n",
        "\n",
        "print(x+v)\n",
        "print(x*2)\n"
      ],
      "execution_count": null,
      "outputs": [
        {
          "output_type": "stream",
          "text": [
            "[[ 8  9 10]\n",
            " [ 6  7  8]\n",
            " [12 13 14]]\n",
            "[[14 16 18]\n",
            " [ 8 10 12]\n",
            " [18 20 22]]\n"
          ],
          "name": "stdout"
        }
      ]
    },
    {
      "cell_type": "markdown",
      "metadata": {
        "id": "kWa8MxL1Rtwa"
      },
      "source": [
        "#Scipy"
      ]
    },
    {
      "cell_type": "code",
      "metadata": {
        "colab": {
          "base_uri": "https://localhost:8080/",
          "height": 310
        },
        "id": "6T2BZVSuWUDk",
        "outputId": "e7d53f5b-ffdb-4141-f03f-5a4caf36d933"
      },
      "source": [
        "!pip install scipy==1.1.0"
      ],
      "execution_count": null,
      "outputs": [
        {
          "output_type": "stream",
          "text": [
            "Collecting scipy==1.1.0\n",
            "\u001b[?25l  Downloading https://files.pythonhosted.org/packages/a8/0b/f163da98d3a01b3e0ef1cab8dd2123c34aee2bafbb1c5bffa354cc8a1730/scipy-1.1.0-cp36-cp36m-manylinux1_x86_64.whl (31.2MB)\n",
            "\u001b[K     |████████████████████████████████| 31.2MB 144kB/s \n",
            "\u001b[?25hRequirement already satisfied: numpy>=1.8.2 in /usr/local/lib/python3.6/dist-packages (from scipy==1.1.0) (1.19.5)\n",
            "\u001b[31mERROR: plotnine 0.6.0 has requirement scipy>=1.2.0, but you'll have scipy 1.1.0 which is incompatible.\u001b[0m\n",
            "\u001b[31mERROR: albumentations 0.1.12 has requirement imgaug<0.2.7,>=0.2.5, but you'll have imgaug 0.2.9 which is incompatible.\u001b[0m\n",
            "Installing collected packages: scipy\n",
            "  Found existing installation: scipy 1.4.1\n",
            "    Uninstalling scipy-1.4.1:\n",
            "      Successfully uninstalled scipy-1.4.1\n",
            "Successfully installed scipy-1.1.0\n"
          ],
          "name": "stdout"
        },
        {
          "output_type": "display_data",
          "data": {
            "application/vnd.colab-display-data+json": {
              "pip_warning": {
                "packages": [
                  "scipy"
                ]
              }
            }
          },
          "metadata": {
            "tags": []
          }
        }
      ]
    },
    {
      "cell_type": "code",
      "metadata": {
        "colab": {
          "base_uri": "https://localhost:8080/"
        },
        "id": "QIyCerDxRs4_",
        "outputId": "e3228eae-b581-4d5f-bfdc-83797e4462ef"
      },
      "source": [
        "from scipy.misc import imread, imsave, imresize\n",
        "import warnings\n",
        "warnings.filterwarnings(\"ignore\")\n",
        "\n",
        "img = imread('cat.jpg')\n",
        "print(img.dtype, img.shape)\n",
        "\n",
        "img_tinted = img*[1, 0.95, 0.9]\n",
        "imsave('cat_tinted.jpg', img_tinted)"
      ],
      "execution_count": null,
      "outputs": [
        {
          "output_type": "stream",
          "text": [
            "uint8 (549, 976, 3)\n"
          ],
          "name": "stdout"
        }
      ]
    },
    {
      "cell_type": "code",
      "metadata": {
        "colab": {
          "base_uri": "https://localhost:8080/"
        },
        "id": "Zr4yaSWtXxKx",
        "outputId": "cb0d7b06-7864-46ce-f51a-1dc0bce445c3"
      },
      "source": [
        "import numpy as np\n",
        "from scipy.spatial.distance import pdist, squareform\n",
        "\n",
        "x = np.array([\n",
        "              [0, 1],\n",
        "              [1, 0],\n",
        "              [2, 0]\n",
        "])\n",
        "\n",
        "print(x)\n",
        "\n",
        "d = squareform(pdist(x, metric='euclidean'))\n",
        "print(d)"
      ],
      "execution_count": null,
      "outputs": [
        {
          "output_type": "stream",
          "text": [
            "[[0 1]\n",
            " [1 0]\n",
            " [2 0]]\n",
            "[[0.         1.41421356 2.23606798]\n",
            " [1.41421356 0.         1.        ]\n",
            " [2.23606798 1.         0.        ]]\n"
          ],
          "name": "stdout"
        }
      ]
    },
    {
      "cell_type": "code",
      "metadata": {
        "colab": {
          "base_uri": "https://localhost:8080/",
          "height": 295
        },
        "id": "_KXz0FYIbX1f",
        "outputId": "725d3ddb-9aee-426a-c67d-1ccd229677f0"
      },
      "source": [
        "import numpy as np\n",
        "import matplotlib.pyplot as plt\n",
        "\n",
        "x = np.arange(0, 3*np.pi, 0.1)\n",
        "y_sin = np.sin(x)\n",
        "y_cos = np.cos(x)\n",
        "\n",
        "plt.plot(x,y_sin)\n",
        "plt.plot(x,y_cos)\n",
        "plt.xlabel('x axis label')\n",
        "plt.ylabel('y axis label')\n",
        "plt.title('sine and cosine')\n",
        "plt.legend(['sin','cos'])\n",
        "plt.show()"
      ],
      "execution_count": null,
      "outputs": [
        {
          "output_type": "display_data",
          "data": {
            "image/png": "[encoded data removed]",
            "text/plain": [
              "<Figure size 432x288 with 1 Axes>"
            ]
          },
          "metadata": {
            "tags": [],
            "needs_background": "light"
          }
        }
      ]
    },
    {
      "cell_type": "code",
      "metadata": {
        "colab": {
          "base_uri": "https://localhost:8080/",
          "height": 281
        },
        "id": "EoN1C_eNdP__",
        "outputId": "8eabc570-1b0c-45dc-a4f7-2dfbb4ae223b"
      },
      "source": [
        "import numpy as np\n",
        "import matplotlib.pyplot as plt\n",
        "\n",
        "x = np.arange(0, 3*np.pi, 0.1)\n",
        "y_sin = np.sin(x)\n",
        "y_cos = np.cos(x)\n",
        "\n",
        "plt.subplot(2,1,1)\n",
        "plt.plot(x,y_sin)\n",
        "plt.title('Sine')\n",
        "\n",
        "plt.subplot(2,1,2)\n",
        "plt.plot(x,y_cos)\n",
        "plt.title('Cosine')\n",
        "plt.show()"
      ],
      "execution_count": null,
      "outputs": [
        {
          "output_type": "display_data",
          "data": {
            "image/png": "[encoded data removed]",
            "text/plain": [
              "<Figure size 432x288 with 2 Axes>"
            ]
          },
          "metadata": {
            "tags": [],
            "needs_background": "light"
          }
        }
      ]
    },
    {
      "cell_type": "markdown",
      "metadata": {
        "id": "-rf0oRSie6Ze"
      },
      "source": [
        "#Images"
      ]
    },
    {
      "cell_type": "code",
      "metadata": {
        "colab": {
          "base_uri": "https://localhost:8080/",
          "height": 137
        },
        "id": "69g9Wmt-e7-r",
        "outputId": "9080c867-fed4-4f48-f518-b93c3c0012e5"
      },
      "source": [
        "import numpy as np\n",
        "from scipy.misc import imread, imresize\n",
        "import matplotlib.pyplot as plt\n",
        "\n",
        "img = imread('./cat.jpg')\n",
        "img_tinted = img*[1,0.95, 0.9]\n",
        "\n",
        "plt.subplot(1,2,1)\n",
        "plt.imshow(img)\n",
        "\n",
        "plt.subplot(1,2,2)\n",
        "plt.imshow(np.uint8(img_tinted))\n",
        "plt.show()\n"
      ],
      "execution_count": null,
      "outputs": [
        {
          "output_type": "display_data",
          "data": {
            "image/png": "[encoded data removed]",
            "text/plain": [
              "<Figure size 432x288 with 2 Axes>"
            ]
          },
          "metadata": {
            "tags": [],
            "needs_background": "light"
          }
        }
      ]
    },
    {
      "cell_type": "markdown",
      "metadata": {
        "id": "gX-1hk8XgjVm"
      },
      "source": [
        "#Reference\n",
        "https://cs231n.github.io/python-numpy-tutorial/"
      ]
    },
    {
      "cell_type": "code",
      "metadata": {
        "id": "bn6JzZesgswb"
      },
      "source": [
        ""
      ],
      "execution_count": null,
      "outputs": []
    }
  ]
}